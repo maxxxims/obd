{
 "cells": [
  {
   "cell_type": "code",
   "execution_count": 1,
   "id": "7bc638c7",
   "metadata": {},
   "outputs": [
    {
     "name": "stdout",
     "output_type": "stream",
     "text": [
      "2.0.1+cu118\n"
     ]
    }
   ],
   "source": [
    "from utils.train import train_model, main, get_param_dict\n",
    "from utils.utils import label_map\n",
    "from model import SSD300\n",
    "from datasets import PascalVOCDataset\n",
    "from config import Config\n",
    "import torch\n",
    "print(torch.__version__)"
   ]
  },
  {
   "cell_type": "code",
   "execution_count": 2,
   "id": "b529b772",
   "metadata": {},
   "outputs": [
    {
     "data": {
      "text/plain": [
       "{'epochs': 10,\n",
       " 'start_epoch': 1,\n",
       " 'batch_size': 8,\n",
       " 'print_freq': 10,\n",
       " 'save_model_at_end': True,\n",
       " 'workers': 4,\n",
       " 'decay_lr_at': [80000, 100000],\n",
       " 'decay_lr_to': 0.1,\n",
       " 'grad_clip': None,\n",
       " 'save_per_step': None}"
      ]
     },
     "execution_count": 2,
     "metadata": {},
     "output_type": "execute_result"
    }
   ],
   "source": [
    "data_folder = r'C:\\Users\\maxxx\\MMCP\\ssd_torch\\a-PyTorch-Tutorial-to-Object-Detection\\data'\n",
    "# n_classes = Config.n_classes\n",
    "n_classes = len(label_map)\n",
    "lr = 1e-3\n",
    "momentum = 0.9 \n",
    "weight_decay = 5e-4\n",
    "get_param_dict()\n"
   ]
  },
  {
   "cell_type": "code",
   "execution_count": 3,
   "id": "dfc8d4aa",
   "metadata": {},
   "outputs": [
    {
     "name": "stdout",
     "output_type": "stream",
     "text": [
      "{'aeroplane': 1, 'bicycle': 2, 'bird': 3, 'boat': 4, 'bottle': 5, 'bus': 6, 'car': 7, 'cat': 8, 'chair': 9, 'cow': 10, 'diningtable': 11, 'dog': 12, 'horse': 13, 'motorbike': 14, 'person': 15, 'pottedplant': 16, 'sheep': 17, 'sofa': 18, 'train': 19, 'tvmonitor': 20, 'background': 0}\n"
     ]
    }
   ],
   "source": [
    "print(Config.label_map)"
   ]
  },
  {
   "cell_type": "code",
   "execution_count": 3,
   "id": "2535feb7",
   "metadata": {},
   "outputs": [],
   "source": [
    "train_dataset = PascalVOCDataset(data_folder=data_folder, split='train')"
   ]
  },
  {
   "cell_type": "code",
   "execution_count": 4,
   "id": "baf3793c",
   "metadata": {},
   "outputs": [
    {
     "name": "stderr",
     "output_type": "stream",
     "text": [
      "C:\\ProgramData\\Anaconda3\\lib\\site-packages\\torchvision\\models\\_utils.py:208: UserWarning: The parameter 'pretrained' is deprecated since 0.13 and may be removed in the future, please use 'weights' instead.\n",
      "  warnings.warn(\n",
      "C:\\ProgramData\\Anaconda3\\lib\\site-packages\\torchvision\\models\\_utils.py:223: UserWarning: Arguments other than a weight enum or `None` for 'weights' are deprecated since 0.13 and may be removed in the future. The current behavior is equivalent to passing `weights=VGG16_Weights.IMAGENET1K_V1`. You can also use `weights=VGG16_Weights.DEFAULT` to get the most up-to-date weights.\n",
      "  warnings.warn(msg)\n"
     ]
    },
    {
     "name": "stdout",
     "output_type": "stream",
     "text": [
      "\n",
      "Loaded base model.\n",
      "\n"
     ]
    }
   ],
   "source": [
    "model = SSD300(n_classes=n_classes)\n",
    "# Initialize the optimizer, with twice the default learning rate for biases, as in the original Caffe repo\n",
    "biases = list()\n",
    "not_biases = list()\n",
    "for param_name, param in model.named_parameters():\n",
    "    if param.requires_grad:\n",
    "        if param_name.endswith('.bias'):\n",
    "            biases.append(param)\n",
    "        else:\n",
    "            not_biases.append(param)\n",
    "optimizer = torch.optim.SGD(params=[{'params': biases, 'lr': 2 * lr}, {'params': not_biases}],\n",
    "                lr=lr, momentum=momentum, weight_decay=weight_decay)\n"
   ]
  },
  {
   "cell_type": "code",
   "execution_count": 5,
   "id": "0ea6fbbd",
   "metadata": {
    "scrolled": true
   },
   "outputs": [
    {
     "data": {
      "text/plain": [
       "SSD300(\n",
       "  (base): VGGBase(\n",
       "    (conv1_1): Conv2d(3, 64, kernel_size=(3, 3), stride=(1, 1), padding=(1, 1))\n",
       "    (conv1_2): Conv2d(64, 64, kernel_size=(3, 3), stride=(1, 1), padding=(1, 1))\n",
       "    (pool1): MaxPool2d(kernel_size=2, stride=2, padding=0, dilation=1, ceil_mode=False)\n",
       "    (conv2_1): Conv2d(64, 128, kernel_size=(3, 3), stride=(1, 1), padding=(1, 1))\n",
       "    (conv2_2): Conv2d(128, 128, kernel_size=(3, 3), stride=(1, 1), padding=(1, 1))\n",
       "    (pool2): MaxPool2d(kernel_size=2, stride=2, padding=0, dilation=1, ceil_mode=False)\n",
       "    (conv3_1): Conv2d(128, 256, kernel_size=(3, 3), stride=(1, 1), padding=(1, 1))\n",
       "    (conv3_2): Conv2d(256, 256, kernel_size=(3, 3), stride=(1, 1), padding=(1, 1))\n",
       "    (conv3_3): Conv2d(256, 256, kernel_size=(3, 3), stride=(1, 1), padding=(1, 1))\n",
       "    (pool3): MaxPool2d(kernel_size=2, stride=2, padding=0, dilation=1, ceil_mode=True)\n",
       "    (conv4_1): Conv2d(256, 512, kernel_size=(3, 3), stride=(1, 1), padding=(1, 1))\n",
       "    (conv4_2): Conv2d(512, 512, kernel_size=(3, 3), stride=(1, 1), padding=(1, 1))\n",
       "    (conv4_3): Conv2d(512, 512, kernel_size=(3, 3), stride=(1, 1), padding=(1, 1))\n",
       "    (pool4): MaxPool2d(kernel_size=2, stride=2, padding=0, dilation=1, ceil_mode=False)\n",
       "    (conv5_1): Conv2d(512, 512, kernel_size=(3, 3), stride=(1, 1), padding=(1, 1))\n",
       "    (conv5_2): Conv2d(512, 512, kernel_size=(3, 3), stride=(1, 1), padding=(1, 1))\n",
       "    (conv5_3): Conv2d(512, 512, kernel_size=(3, 3), stride=(1, 1), padding=(1, 1))\n",
       "    (pool5): MaxPool2d(kernel_size=3, stride=1, padding=1, dilation=1, ceil_mode=False)\n",
       "    (conv6): Conv2d(512, 1024, kernel_size=(3, 3), stride=(1, 1), padding=(6, 6), dilation=(6, 6))\n",
       "    (conv7): Conv2d(1024, 1024, kernel_size=(1, 1), stride=(1, 1))\n",
       "  )\n",
       "  (aux_convs): AuxiliaryConvolutions(\n",
       "    (conv8_1): Conv2d(1024, 256, kernel_size=(1, 1), stride=(1, 1))\n",
       "    (conv8_2): Conv2d(256, 512, kernel_size=(3, 3), stride=(2, 2), padding=(1, 1))\n",
       "    (conv9_1): Conv2d(512, 128, kernel_size=(1, 1), stride=(1, 1))\n",
       "    (conv9_2): Conv2d(128, 256, kernel_size=(3, 3), stride=(2, 2), padding=(1, 1))\n",
       "    (conv10_1): Conv2d(256, 128, kernel_size=(1, 1), stride=(1, 1))\n",
       "    (conv10_2): Conv2d(128, 256, kernel_size=(3, 3), stride=(1, 1))\n",
       "    (conv11_1): Conv2d(256, 128, kernel_size=(1, 1), stride=(1, 1))\n",
       "    (conv11_2): Conv2d(128, 256, kernel_size=(3, 3), stride=(1, 1))\n",
       "  )\n",
       "  (pred_convs): PredictionConvolutions(\n",
       "    (loc_conv4_3): Conv2d(512, 16, kernel_size=(3, 3), stride=(1, 1), padding=(1, 1))\n",
       "    (loc_conv7): Conv2d(1024, 24, kernel_size=(3, 3), stride=(1, 1), padding=(1, 1))\n",
       "    (loc_conv8_2): Conv2d(512, 24, kernel_size=(3, 3), stride=(1, 1), padding=(1, 1))\n",
       "    (loc_conv9_2): Conv2d(256, 24, kernel_size=(3, 3), stride=(1, 1), padding=(1, 1))\n",
       "    (loc_conv10_2): Conv2d(256, 16, kernel_size=(3, 3), stride=(1, 1), padding=(1, 1))\n",
       "    (loc_conv11_2): Conv2d(256, 16, kernel_size=(3, 3), stride=(1, 1), padding=(1, 1))\n",
       "    (cl_conv4_3): Conv2d(512, 80, kernel_size=(3, 3), stride=(1, 1), padding=(1, 1))\n",
       "    (cl_conv7): Conv2d(1024, 120, kernel_size=(3, 3), stride=(1, 1), padding=(1, 1))\n",
       "    (cl_conv8_2): Conv2d(512, 120, kernel_size=(3, 3), stride=(1, 1), padding=(1, 1))\n",
       "    (cl_conv9_2): Conv2d(256, 120, kernel_size=(3, 3), stride=(1, 1), padding=(1, 1))\n",
       "    (cl_conv10_2): Conv2d(256, 80, kernel_size=(3, 3), stride=(1, 1), padding=(1, 1))\n",
       "    (cl_conv11_2): Conv2d(256, 80, kernel_size=(3, 3), stride=(1, 1), padding=(1, 1))\n",
       "  )\n",
       ")"
      ]
     },
     "execution_count": 5,
     "metadata": {},
     "output_type": "execute_result"
    }
   ],
   "source": [
    "model.eval()"
   ]
  },
  {
   "cell_type": "code",
   "execution_count": 5,
   "id": "5ddb09a5",
   "metadata": {
    "scrolled": true
   },
   "outputs": [
    {
     "name": "stdout",
     "output_type": "stream",
     "text": [
      "used device = cuda\n",
      "1\n",
      "2\n",
      "3\n",
      "ep = 1\n"
     ]
    },
    {
     "name": "stderr",
     "output_type": "stream",
     "text": [
      "C:\\ProgramData\\Anaconda3\\lib\\site-packages\\torch\\nn\\_reduction.py:42: UserWarning: size_average and reduce args will be deprecated, please use reduction='none' instead.\n",
      "  warnings.warn(warning.format(ret))\n"
     ]
    },
    {
     "name": "stdout",
     "output_type": "stream",
     "text": [
      "Epoch: [1][0/627]\tBatch Time 9.001 (9.001)\tData Time 3.867 (3.867)\tLoss 23.0494 (23.0494)\t\n",
      "Epoch: [1][10/627]\tBatch Time 0.547 (1.186)\tData Time 0.331 (0.520)\tLoss 15.3122 (17.0452)\t\n",
      "Epoch: [1][20/627]\tBatch Time 0.469 (0.852)\tData Time 0.255 (0.401)\tLoss 13.6945 (15.7234)\t\n",
      "Epoch: [1][30/627]\tBatch Time 0.340 (0.731)\tData Time 0.126 (0.356)\tLoss 13.7959 (15.1306)\t\n",
      "Epoch: [1][40/627]\tBatch Time 0.379 (0.668)\tData Time 0.164 (0.332)\tLoss 12.8128 (14.7500)\t\n",
      "Epoch: [1][50/627]\tBatch Time 0.370 (0.630)\tData Time 0.156 (0.318)\tLoss 12.1172 (14.3858)\t\n",
      "Epoch: [1][60/627]\tBatch Time 0.599 (0.609)\tData Time 0.385 (0.313)\tLoss 10.7377 (13.9709)\t\n",
      "Epoch: [1][70/627]\tBatch Time 0.616 (0.591)\tData Time 0.399 (0.305)\tLoss 12.9383 (13.8608)\t\n",
      "Epoch: [1][80/627]\tBatch Time 0.677 (0.582)\tData Time 0.464 (0.305)\tLoss 11.8129 (13.6686)\t\n",
      "Epoch: [1][90/627]\tBatch Time 0.512 (0.571)\tData Time 0.292 (0.301)\tLoss 9.1872 (13.3777)\t\n",
      "Epoch: [1][100/627]\tBatch Time 0.252 (0.563)\tData Time 0.036 (0.298)\tLoss 8.9392 (13.1129)\t\n",
      "Epoch: [1][110/627]\tBatch Time 0.409 (0.555)\tData Time 0.195 (0.295)\tLoss 8.7112 (12.9097)\t\n",
      "Epoch: [1][120/627]\tBatch Time 0.527 (0.548)\tData Time 0.312 (0.291)\tLoss 8.3713 (12.5098)\t\n",
      "Epoch: [1][130/627]\tBatch Time 0.534 (0.545)\tData Time 0.317 (0.292)\tLoss 8.9946 (12.2358)\t\n",
      "Epoch: [1][140/627]\tBatch Time 0.324 (0.541)\tData Time 0.109 (0.290)\tLoss 10.4382 (12.0381)\t\n",
      "Epoch: [1][150/627]\tBatch Time 0.448 (0.538)\tData Time 0.235 (0.290)\tLoss 7.8515 (11.8312)\t\n",
      "Epoch: [1][160/627]\tBatch Time 0.586 (0.535)\tData Time 0.356 (0.288)\tLoss 6.4760 (11.5542)\t\n",
      "Epoch: [1][170/627]\tBatch Time 0.339 (0.530)\tData Time 0.126 (0.285)\tLoss 6.0984 (11.2662)\t\n",
      "Epoch: [1][180/627]\tBatch Time 0.567 (0.529)\tData Time 0.348 (0.285)\tLoss 6.7554 (11.0295)\t\n",
      "Epoch: [1][190/627]\tBatch Time 0.381 (0.524)\tData Time 0.163 (0.282)\tLoss 6.1374 (10.8027)\t\n",
      "Epoch: [1][200/627]\tBatch Time 0.420 (0.520)\tData Time 0.205 (0.279)\tLoss 6.5083 (10.6000)\t\n",
      "Epoch: [1][210/627]\tBatch Time 0.549 (0.519)\tData Time 0.331 (0.279)\tLoss 6.3941 (10.4115)\t\n",
      "Epoch: [1][220/627]\tBatch Time 0.376 (0.515)\tData Time 0.163 (0.276)\tLoss 6.3654 (10.2356)\t\n",
      "Epoch: [1][230/627]\tBatch Time 0.432 (0.520)\tData Time 0.205 (0.281)\tLoss 6.0507 (10.0745)\t\n",
      "Epoch: [1][240/627]\tBatch Time 0.445 (0.517)\tData Time 0.228 (0.279)\tLoss 5.8429 (9.9199)\t\n",
      "Epoch: [1][250/627]\tBatch Time 0.539 (0.517)\tData Time 0.321 (0.280)\tLoss 6.0155 (9.7721)\t\n",
      "Epoch: [1][260/627]\tBatch Time 0.477 (0.515)\tData Time 0.264 (0.279)\tLoss 6.6001 (9.6425)\t\n",
      "Epoch: [1][270/627]\tBatch Time 0.429 (0.513)\tData Time 0.208 (0.277)\tLoss 6.4752 (9.5182)\t\n",
      "Epoch: [1][280/627]\tBatch Time 0.367 (0.512)\tData Time 0.146 (0.277)\tLoss 5.9465 (9.4091)\t\n",
      "Epoch: [1][290/627]\tBatch Time 0.502 (0.510)\tData Time 0.287 (0.276)\tLoss 6.5062 (9.2963)\t\n",
      "Epoch: [1][300/627]\tBatch Time 0.503 (0.508)\tData Time 0.284 (0.274)\tLoss 5.6807 (9.1906)\t\n",
      "Epoch: [1][310/627]\tBatch Time 0.486 (0.507)\tData Time 0.268 (0.274)\tLoss 6.8195 (9.0990)\t\n",
      "Epoch: [1][320/627]\tBatch Time 0.545 (0.509)\tData Time 0.328 (0.276)\tLoss 5.5598 (9.0092)\t\n",
      "Epoch: [1][330/627]\tBatch Time 0.345 (0.508)\tData Time 0.130 (0.276)\tLoss 6.4389 (8.9240)\t\n",
      "Epoch: [1][340/627]\tBatch Time 0.430 (0.507)\tData Time 0.215 (0.275)\tLoss 6.5948 (8.8383)\t\n",
      "Epoch: [1][350/627]\tBatch Time 0.413 (0.503)\tData Time 0.198 (0.272)\tLoss 6.3696 (8.7609)\t\n",
      "Epoch: [1][360/627]\tBatch Time 0.487 (0.502)\tData Time 0.273 (0.271)\tLoss 7.2483 (8.6913)\t\n",
      "Epoch: [1][370/627]\tBatch Time 0.381 (0.503)\tData Time 0.166 (0.272)\tLoss 6.2831 (8.6219)\t\n",
      "Epoch: [1][380/627]\tBatch Time 0.317 (0.501)\tData Time 0.103 (0.271)\tLoss 5.9585 (8.5542)\t\n",
      "Epoch: [1][390/627]\tBatch Time 0.437 (0.500)\tData Time 0.224 (0.270)\tLoss 6.5411 (8.4944)\t\n",
      "Epoch: [1][400/627]\tBatch Time 0.662 (0.500)\tData Time 0.443 (0.270)\tLoss 6.6626 (8.4353)\t\n",
      "Epoch: [1][410/627]\tBatch Time 0.411 (0.499)\tData Time 0.192 (0.269)\tLoss 6.5714 (8.3859)\t\n",
      "Epoch: [1][420/627]\tBatch Time 0.663 (0.498)\tData Time 0.447 (0.269)\tLoss 6.1743 (8.3352)\t\n",
      "Epoch: [1][430/627]\tBatch Time 0.391 (0.497)\tData Time 0.174 (0.269)\tLoss 5.3969 (8.2834)\t\n",
      "Epoch: [1][440/627]\tBatch Time 0.406 (0.496)\tData Time 0.187 (0.267)\tLoss 5.7919 (8.2361)\t\n",
      "Epoch: [1][450/627]\tBatch Time 0.516 (0.496)\tData Time 0.300 (0.268)\tLoss 5.8696 (8.1952)\t\n",
      "Epoch: [1][460/627]\tBatch Time 0.356 (0.497)\tData Time 0.133 (0.269)\tLoss 6.0164 (8.1501)\t\n",
      "Epoch: [1][470/627]\tBatch Time 0.401 (0.496)\tData Time 0.185 (0.268)\tLoss 6.0540 (8.1039)\t\n",
      "Epoch: [1][480/627]\tBatch Time 0.318 (0.496)\tData Time 0.101 (0.269)\tLoss 5.7872 (8.0542)\t\n",
      "Epoch: [1][490/627]\tBatch Time 0.657 (0.497)\tData Time 0.428 (0.269)\tLoss 5.9456 (8.0160)\t\n",
      "Epoch: [1][500/627]\tBatch Time 0.418 (0.498)\tData Time 0.198 (0.270)\tLoss 5.9486 (7.9759)\t\n",
      "Epoch: [1][510/627]\tBatch Time 0.532 (0.497)\tData Time 0.314 (0.269)\tLoss 6.0607 (7.9382)\t\n",
      "Epoch: [1][520/627]\tBatch Time 0.446 (0.497)\tData Time 0.222 (0.270)\tLoss 6.2725 (7.9019)\t\n",
      "Epoch: [1][530/627]\tBatch Time 0.621 (0.498)\tData Time 0.401 (0.271)\tLoss 5.8062 (7.8664)\t\n",
      "Epoch: [1][540/627]\tBatch Time 0.460 (0.498)\tData Time 0.243 (0.271)\tLoss 5.7626 (7.8342)\t\n",
      "Epoch: [1][550/627]\tBatch Time 0.433 (0.498)\tData Time 0.215 (0.271)\tLoss 5.7607 (7.7999)\t\n",
      "Epoch: [1][560/627]\tBatch Time 0.412 (0.499)\tData Time 0.182 (0.273)\tLoss 5.3683 (7.7653)\t\n",
      "Epoch: [1][570/627]\tBatch Time 0.401 (0.500)\tData Time 0.184 (0.273)\tLoss 5.5797 (7.7401)\t\n",
      "Epoch: [1][580/627]\tBatch Time 0.428 (0.500)\tData Time 0.209 (0.273)\tLoss 5.8277 (7.7088)\t\n",
      "Epoch: [1][590/627]\tBatch Time 0.563 (0.500)\tData Time 0.345 (0.274)\tLoss 6.2102 (7.6832)\t\n",
      "Epoch: [1][600/627]\tBatch Time 0.413 (0.499)\tData Time 0.198 (0.273)\tLoss 6.0760 (7.6523)\t\n",
      "Epoch: [1][610/627]\tBatch Time 0.720 (0.500)\tData Time 0.502 (0.274)\tLoss 6.3196 (7.6227)\t\n",
      "Epoch: [1][620/627]\tBatch Time 0.458 (0.499)\tData Time 0.242 (0.274)\tLoss 5.9595 (7.5930)\t\n",
      "ep = 2\n",
      "Epoch: [2][0/627]\tBatch Time 4.416 (4.416)\tData Time 3.945 (3.945)\tLoss 6.6898 (6.6898)\t\n",
      "Epoch: [2][10/627]\tBatch Time 0.611 (0.800)\tData Time 0.358 (0.551)\tLoss 6.4049 (6.0414)\t\n",
      "Epoch: [2][20/627]\tBatch Time 0.395 (0.659)\tData Time 0.184 (0.425)\tLoss 6.0215 (6.0589)\t\n",
      "Epoch: [2][30/627]\tBatch Time 0.527 (0.597)\tData Time 0.315 (0.370)\tLoss 5.9595 (6.0070)\t\n",
      "Epoch: [2][40/627]\tBatch Time 0.454 (0.555)\tData Time 0.243 (0.332)\tLoss 6.3502 (5.9950)\t\n",
      "Epoch: [2][50/627]\tBatch Time 0.533 (0.533)\tData Time 0.322 (0.312)\tLoss 5.6749 (5.9753)\t\n",
      "Epoch: [2][60/627]\tBatch Time 0.635 (0.522)\tData Time 0.424 (0.302)\tLoss 5.6857 (5.9544)\t\n",
      "Epoch: [2][70/627]\tBatch Time 0.302 (0.513)\tData Time 0.090 (0.294)\tLoss 5.1617 (5.9326)\t\n",
      "Epoch: [2][80/627]\tBatch Time 0.576 (0.502)\tData Time 0.365 (0.283)\tLoss 5.9024 (5.9124)\t\n",
      "Epoch: [2][90/627]\tBatch Time 0.323 (0.491)\tData Time 0.110 (0.273)\tLoss 6.7495 (5.9111)\t\n",
      "Epoch: [2][100/627]\tBatch Time 0.656 (0.493)\tData Time 0.441 (0.276)\tLoss 5.8481 (5.9074)\t\n",
      "Epoch: [2][110/627]\tBatch Time 0.380 (0.491)\tData Time 0.165 (0.274)\tLoss 5.6837 (5.8932)\t\n",
      "Epoch: [2][120/627]\tBatch Time 0.464 (0.492)\tData Time 0.251 (0.275)\tLoss 5.6216 (5.8930)\t\n",
      "Epoch: [2][130/627]\tBatch Time 0.550 (0.488)\tData Time 0.337 (0.272)\tLoss 5.6387 (5.8912)\t\n",
      "Epoch: [2][140/627]\tBatch Time 0.436 (0.485)\tData Time 0.226 (0.269)\tLoss 5.7244 (5.8838)\t\n",
      "Epoch: [2][150/627]\tBatch Time 0.258 (0.484)\tData Time 0.044 (0.268)\tLoss 6.1528 (5.8821)\t\n",
      "Epoch: [2][160/627]\tBatch Time 0.393 (0.481)\tData Time 0.182 (0.266)\tLoss 5.6019 (5.8913)\t\n",
      "Epoch: [2][170/627]\tBatch Time 0.414 (0.477)\tData Time 0.197 (0.262)\tLoss 5.8164 (5.8711)\t\n",
      "Epoch: [2][180/627]\tBatch Time 0.530 (0.476)\tData Time 0.319 (0.260)\tLoss 5.8561 (5.8770)\t\n",
      "Epoch: [2][190/627]\tBatch Time 0.626 (0.475)\tData Time 0.409 (0.260)\tLoss 5.5743 (5.8722)\t\n",
      "Epoch: [2][200/627]\tBatch Time 0.709 (0.477)\tData Time 0.499 (0.261)\tLoss 5.8164 (5.8758)\t\n",
      "Epoch: [2][210/627]\tBatch Time 0.449 (0.475)\tData Time 0.236 (0.260)\tLoss 5.6370 (5.8767)\t\n",
      "Epoch: [2][220/627]\tBatch Time 0.384 (0.474)\tData Time 0.167 (0.259)\tLoss 5.1627 (5.8845)\t\n",
      "Epoch: [2][230/627]\tBatch Time 0.576 (0.475)\tData Time 0.363 (0.260)\tLoss 5.6652 (5.8836)\t\n",
      "Epoch: [2][240/627]\tBatch Time 0.457 (0.473)\tData Time 0.240 (0.258)\tLoss 5.8867 (5.8758)\t\n",
      "Epoch: [2][250/627]\tBatch Time 0.402 (0.474)\tData Time 0.190 (0.259)\tLoss 5.7323 (5.8733)\t\n",
      "Epoch: [2][260/627]\tBatch Time 0.640 (0.473)\tData Time 0.428 (0.259)\tLoss 5.4362 (5.8742)\t\n"
     ]
    },
    {
     "name": "stdout",
     "output_type": "stream",
     "text": [
      "Epoch: [2][270/627]\tBatch Time 0.499 (0.473)\tData Time 0.285 (0.258)\tLoss 5.1076 (5.8610)\t\n",
      "Epoch: [2][280/627]\tBatch Time 0.421 (0.473)\tData Time 0.205 (0.258)\tLoss 6.1646 (5.8561)\t\n",
      "Epoch: [2][290/627]\tBatch Time 0.506 (0.473)\tData Time 0.294 (0.259)\tLoss 5.7041 (5.8544)\t\n",
      "Epoch: [2][300/627]\tBatch Time 0.583 (0.474)\tData Time 0.367 (0.260)\tLoss 5.0998 (5.8509)\t\n",
      "Epoch: [2][310/627]\tBatch Time 0.408 (0.473)\tData Time 0.195 (0.258)\tLoss 5.6986 (5.8538)\t\n",
      "Epoch: [2][320/627]\tBatch Time 0.392 (0.471)\tData Time 0.181 (0.257)\tLoss 4.9755 (5.8431)\t\n",
      "Epoch: [2][330/627]\tBatch Time 0.332 (0.470)\tData Time 0.115 (0.256)\tLoss 5.7176 (5.8382)\t\n",
      "Epoch: [2][340/627]\tBatch Time 0.460 (0.471)\tData Time 0.246 (0.256)\tLoss 4.7244 (5.8322)\t\n",
      "Epoch: [2][350/627]\tBatch Time 0.368 (0.469)\tData Time 0.156 (0.255)\tLoss 5.8310 (5.8439)\t\n",
      "Epoch: [2][360/627]\tBatch Time 0.257 (0.470)\tData Time 0.044 (0.256)\tLoss 5.5169 (5.8464)\t\n",
      "Epoch: [2][370/627]\tBatch Time 0.536 (0.470)\tData Time 0.322 (0.256)\tLoss 5.2467 (5.8425)\t\n",
      "Epoch: [2][380/627]\tBatch Time 0.453 (0.470)\tData Time 0.242 (0.255)\tLoss 5.4239 (5.8361)\t\n",
      "Epoch: [2][390/627]\tBatch Time 0.649 (0.470)\tData Time 0.432 (0.255)\tLoss 5.9343 (5.8387)\t\n",
      "Epoch: [2][400/627]\tBatch Time 0.381 (0.468)\tData Time 0.167 (0.254)\tLoss 5.3198 (5.8377)\t\n",
      "Epoch: [2][410/627]\tBatch Time 0.715 (0.469)\tData Time 0.503 (0.255)\tLoss 5.3573 (5.8341)\t\n",
      "Epoch: [2][420/627]\tBatch Time 0.620 (0.469)\tData Time 0.402 (0.255)\tLoss 5.2646 (5.8301)\t\n",
      "Epoch: [2][430/627]\tBatch Time 0.470 (0.468)\tData Time 0.257 (0.253)\tLoss 5.4827 (5.8250)\t\n",
      "Epoch: [2][440/627]\tBatch Time 0.497 (0.468)\tData Time 0.281 (0.254)\tLoss 5.5598 (5.8235)\t\n",
      "Epoch: [2][450/627]\tBatch Time 0.328 (0.468)\tData Time 0.114 (0.254)\tLoss 5.9567 (5.8178)\t\n",
      "Epoch: [2][460/627]\tBatch Time 0.542 (0.468)\tData Time 0.330 (0.253)\tLoss 5.3774 (5.8114)\t\n",
      "Epoch: [2][470/627]\tBatch Time 0.398 (0.468)\tData Time 0.186 (0.254)\tLoss 5.9097 (5.8113)\t\n",
      "Epoch: [2][480/627]\tBatch Time 0.389 (0.468)\tData Time 0.176 (0.254)\tLoss 5.9617 (5.8087)\t\n",
      "Epoch: [2][490/627]\tBatch Time 0.514 (0.467)\tData Time 0.302 (0.253)\tLoss 5.5231 (5.8038)\t\n",
      "Epoch: [2][500/627]\tBatch Time 0.490 (0.467)\tData Time 0.277 (0.253)\tLoss 5.6441 (5.8040)\t\n",
      "Epoch: [2][510/627]\tBatch Time 0.576 (0.467)\tData Time 0.361 (0.253)\tLoss 5.8372 (5.8045)\t\n",
      "Epoch: [2][520/627]\tBatch Time 0.431 (0.467)\tData Time 0.218 (0.253)\tLoss 4.9708 (5.7970)\t\n",
      "Epoch: [2][530/627]\tBatch Time 0.696 (0.466)\tData Time 0.482 (0.252)\tLoss 5.6699 (5.7951)\t\n",
      "Epoch: [2][540/627]\tBatch Time 0.381 (0.467)\tData Time 0.162 (0.253)\tLoss 5.4374 (5.7951)\t\n",
      "Epoch: [2][550/627]\tBatch Time 0.437 (0.466)\tData Time 0.226 (0.252)\tLoss 5.7306 (5.7914)\t\n",
      "Epoch: [2][560/627]\tBatch Time 0.526 (0.465)\tData Time 0.315 (0.251)\tLoss 5.7991 (5.7930)\t\n",
      "Epoch: [2][570/627]\tBatch Time 0.544 (0.466)\tData Time 0.332 (0.252)\tLoss 6.0809 (5.7927)\t\n",
      "Epoch: [2][580/627]\tBatch Time 0.250 (0.464)\tData Time 0.037 (0.250)\tLoss 6.1971 (5.7908)\t\n",
      "Epoch: [2][590/627]\tBatch Time 0.497 (0.465)\tData Time 0.283 (0.251)\tLoss 5.4231 (5.7877)\t\n",
      "Epoch: [2][600/627]\tBatch Time 0.247 (0.464)\tData Time 0.035 (0.250)\tLoss 5.8052 (5.7851)\t\n",
      "Epoch: [2][610/627]\tBatch Time 0.318 (0.463)\tData Time 0.105 (0.249)\tLoss 5.5069 (5.7814)\t\n",
      "Epoch: [2][620/627]\tBatch Time 0.377 (0.463)\tData Time 0.164 (0.249)\tLoss 5.3714 (5.7789)\t\n"
     ]
    }
   ],
   "source": [
    "params={'epochs': 3,\n",
    "         'start_epoch': 1,\n",
    "         'batch_size': 8,\n",
    "         'print_freq': 10,\n",
    "         'save_model_at_end': True,\n",
    "         'workers': 1,\n",
    "         'decay_lr_at': [80000, 100000],\n",
    "         'decay_lr_to': 0.1,\n",
    "         'grad_clip': None,\n",
    "         'save_per_step': None\n",
    "        }\n",
    "train_model(train_dataset=train_dataset, model=model, optimizer=optimizer, **params)"
   ]
  },
  {
   "cell_type": "code",
   "execution_count": 7,
   "id": "3313729c",
   "metadata": {
    "collapsed": true
   },
   "outputs": [
    {
     "name": "stdout",
     "output_type": "stream",
     "text": [
      "\n",
      "Loaded base model.\n",
      "\n"
     ]
    },
    {
     "ename": "RuntimeError",
     "evalue": "CUDA error: device-side assert triggered\nCUDA kernel errors might be asynchronously reported at some other API call, so the stacktrace below might be incorrect.\nFor debugging consider passing CUDA_LAUNCH_BLOCKING=1.\nCompile with `TORCH_USE_CUDA_DSA` to enable device-side assertions.\n",
     "output_type": "error",
     "traceback": [
      "\u001b[1;31m---------------------------------------------------------------------------\u001b[0m",
      "\u001b[1;31mRuntimeError\u001b[0m                              Traceback (most recent call last)",
      "\u001b[1;32m~\\AppData\\Local\\Temp/ipykernel_7120/681574409.py\u001b[0m in \u001b[0;36m<module>\u001b[1;34m\u001b[0m\n\u001b[1;32m----> 1\u001b[1;33m \u001b[0mmain\u001b[0m\u001b[1;33m(\u001b[0m\u001b[0mdata_folder\u001b[0m\u001b[1;33m=\u001b[0m\u001b[0mdata_folder\u001b[0m\u001b[1;33m)\u001b[0m\u001b[1;33m\u001b[0m\u001b[1;33m\u001b[0m\u001b[0m\n\u001b[0m",
      "\u001b[1;32m~\\MMCP\\ssd_torch\\obd\\utils\\train.py\u001b[0m in \u001b[0;36mmain\u001b[1;34m(checkpoint, data_folder, batch_size, iterations, workers, print_freq, lr, decay_lr_at, decay_lr_to, momentum, weight_decay, grad_clip)\u001b[0m\n\u001b[0;32m    120\u001b[0m     \u001b[1;32mif\u001b[0m \u001b[0mcheckpoint\u001b[0m \u001b[1;32mis\u001b[0m \u001b[1;32mNone\u001b[0m\u001b[1;33m:\u001b[0m\u001b[1;33m\u001b[0m\u001b[1;33m\u001b[0m\u001b[0m\n\u001b[0;32m    121\u001b[0m         \u001b[0mstart_epoch\u001b[0m \u001b[1;33m=\u001b[0m \u001b[1;36m0\u001b[0m\u001b[1;33m\u001b[0m\u001b[1;33m\u001b[0m\u001b[0m\n\u001b[1;32m--> 122\u001b[1;33m         \u001b[0mmodel\u001b[0m \u001b[1;33m=\u001b[0m \u001b[0mSSD300\u001b[0m\u001b[1;33m(\u001b[0m\u001b[0mn_classes\u001b[0m\u001b[1;33m=\u001b[0m\u001b[0mn_classes\u001b[0m\u001b[1;33m)\u001b[0m\u001b[1;33m\u001b[0m\u001b[1;33m\u001b[0m\u001b[0m\n\u001b[0m\u001b[0;32m    123\u001b[0m         \u001b[1;31m# Initialize the optimizer, with twice the default learning rate for biases, as in the original Caffe repo\u001b[0m\u001b[1;33m\u001b[0m\u001b[1;33m\u001b[0m\u001b[0m\n\u001b[0;32m    124\u001b[0m         \u001b[0mbiases\u001b[0m \u001b[1;33m=\u001b[0m \u001b[0mlist\u001b[0m\u001b[1;33m(\u001b[0m\u001b[1;33m)\u001b[0m\u001b[1;33m\u001b[0m\u001b[1;33m\u001b[0m\u001b[0m\n",
      "\u001b[1;32m~\\MMCP\\ssd_torch\\obd\\model\\model.py\u001b[0m in \u001b[0;36m__init__\u001b[1;34m(self, n_classes)\u001b[0m\n\u001b[0;32m    344\u001b[0m \u001b[1;33m\u001b[0m\u001b[0m\n\u001b[0;32m    345\u001b[0m         \u001b[1;31m# Prior boxes\u001b[0m\u001b[1;33m\u001b[0m\u001b[1;33m\u001b[0m\u001b[0m\n\u001b[1;32m--> 346\u001b[1;33m         \u001b[0mself\u001b[0m\u001b[1;33m.\u001b[0m\u001b[0mpriors_cxcy\u001b[0m \u001b[1;33m=\u001b[0m \u001b[0mself\u001b[0m\u001b[1;33m.\u001b[0m\u001b[0mcreate_prior_boxes\u001b[0m\u001b[1;33m(\u001b[0m\u001b[1;33m)\u001b[0m\u001b[1;33m\u001b[0m\u001b[1;33m\u001b[0m\u001b[0m\n\u001b[0m\u001b[0;32m    347\u001b[0m \u001b[1;33m\u001b[0m\u001b[0m\n\u001b[0;32m    348\u001b[0m     \u001b[1;32mdef\u001b[0m \u001b[0mforward\u001b[0m\u001b[1;33m(\u001b[0m\u001b[0mself\u001b[0m\u001b[1;33m,\u001b[0m \u001b[0mimage\u001b[0m\u001b[1;33m)\u001b[0m\u001b[1;33m:\u001b[0m\u001b[1;33m\u001b[0m\u001b[1;33m\u001b[0m\u001b[0m\n",
      "\u001b[1;32m~\\MMCP\\ssd_torch\\obd\\model\\model.py\u001b[0m in \u001b[0;36mcreate_prior_boxes\u001b[1;34m(self)\u001b[0m\n\u001b[0;32m    422\u001b[0m                             \u001b[0mprior_boxes\u001b[0m\u001b[1;33m.\u001b[0m\u001b[0mappend\u001b[0m\u001b[1;33m(\u001b[0m\u001b[1;33m[\u001b[0m\u001b[0mcx\u001b[0m\u001b[1;33m,\u001b[0m \u001b[0mcy\u001b[0m\u001b[1;33m,\u001b[0m \u001b[0madditional_scale\u001b[0m\u001b[1;33m,\u001b[0m \u001b[0madditional_scale\u001b[0m\u001b[1;33m]\u001b[0m\u001b[1;33m)\u001b[0m\u001b[1;33m\u001b[0m\u001b[1;33m\u001b[0m\u001b[0m\n\u001b[0;32m    423\u001b[0m \u001b[1;33m\u001b[0m\u001b[0m\n\u001b[1;32m--> 424\u001b[1;33m         \u001b[0mprior_boxes\u001b[0m \u001b[1;33m=\u001b[0m \u001b[0mtorch\u001b[0m\u001b[1;33m.\u001b[0m\u001b[0mFloatTensor\u001b[0m\u001b[1;33m(\u001b[0m\u001b[0mprior_boxes\u001b[0m\u001b[1;33m)\u001b[0m\u001b[1;33m.\u001b[0m\u001b[0mto\u001b[0m\u001b[1;33m(\u001b[0m\u001b[0mdevice\u001b[0m\u001b[1;33m)\u001b[0m  \u001b[1;31m# (8732, 4)\u001b[0m\u001b[1;33m\u001b[0m\u001b[1;33m\u001b[0m\u001b[0m\n\u001b[0m\u001b[0;32m    425\u001b[0m         \u001b[0mprior_boxes\u001b[0m\u001b[1;33m.\u001b[0m\u001b[0mclamp_\u001b[0m\u001b[1;33m(\u001b[0m\u001b[1;36m0\u001b[0m\u001b[1;33m,\u001b[0m \u001b[1;36m1\u001b[0m\u001b[1;33m)\u001b[0m  \u001b[1;31m# (8732, 4); this line has no effect; see Remarks section in tutorial\u001b[0m\u001b[1;33m\u001b[0m\u001b[1;33m\u001b[0m\u001b[0m\n\u001b[0;32m    426\u001b[0m \u001b[1;33m\u001b[0m\u001b[0m\n",
      "\u001b[1;31mRuntimeError\u001b[0m: CUDA error: device-side assert triggered\nCUDA kernel errors might be asynchronously reported at some other API call, so the stacktrace below might be incorrect.\nFor debugging consider passing CUDA_LAUNCH_BLOCKING=1.\nCompile with `TORCH_USE_CUDA_DSA` to enable device-side assertions.\n"
     ]
    }
   ],
   "source": [
    "main(data_folder=data_folder)"
   ]
  },
  {
   "cell_type": "markdown",
   "id": "e3d0f202",
   "metadata": {},
   "source": [
    "# Detect"
   ]
  },
  {
   "cell_type": "code",
   "execution_count": 10,
   "id": "b7805446",
   "metadata": {},
   "outputs": [],
   "source": [
    "from utils.detect import detect\n",
    "from torchvision import transforms\n",
    "from PIL import Image, ImageDraw, ImageFont\n"
   ]
  },
  {
   "cell_type": "code",
   "execution_count": 14,
   "id": "66aece16",
   "metadata": {},
   "outputs": [],
   "source": [
    "img_path = r'C:\\Users\\maxxx\\MMCP\\ssd_torch\\a-PyTorch-Tutorial-to-Object-Detection\\img\\000001.jpg'\n",
    "original_image = Image.open(img_path, mode='r')\n",
    "original_image = original_image.convert('RGB')\n",
    "detect(model, original_image, min_score=0.2, max_overlap=0.2, top_k=200).show()"
   ]
  },
  {
   "cell_type": "code",
   "execution_count": null,
   "id": "fff297d4",
   "metadata": {},
   "outputs": [],
   "source": []
  }
 ],
 "metadata": {
  "kernelspec": {
   "display_name": "Python 3 (ipykernel)",
   "language": "python",
   "name": "python3"
  },
  "language_info": {
   "codemirror_mode": {
    "name": "ipython",
    "version": 3
   },
   "file_extension": ".py",
   "mimetype": "text/x-python",
   "name": "python",
   "nbconvert_exporter": "python",
   "pygments_lexer": "ipython3",
   "version": "3.9.7"
  }
 },
 "nbformat": 4,
 "nbformat_minor": 5
}
